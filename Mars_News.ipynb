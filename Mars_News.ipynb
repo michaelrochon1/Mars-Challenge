{
 "cells": [
  {
   "cell_type": "markdown",
   "metadata": {},
   "source": [
    "# Module 12 Challenge\n",
    "## Deliverable 1: Scrape Titles and Preview Text from Mars News"
   ]
  },
  {
   "cell_type": "code",
   "execution_count": 17,
   "metadata": {},
   "outputs": [],
   "source": [
    "# Import Splinter and BeautifulSoup\n",
    "from splinter import Browser\n",
    "from bs4 import BeautifulSoup as soup\n",
    "from webdriver_manager.chrome import ChromeDriverManager"
   ]
  },
  {
   "cell_type": "code",
   "execution_count": 27,
   "metadata": {},
   "outputs": [],
   "source": [
    "import pprint"
   ]
  },
  {
   "cell_type": "code",
   "execution_count": 18,
   "metadata": {
    "scrolled": true
   },
   "outputs": [],
   "source": [
    "executable_path = {'executable_path': ChromeDriverManager().install()}\n",
    "browser = Browser('chrome', **executable_path, headless=False)"
   ]
  },
  {
   "cell_type": "markdown",
   "metadata": {},
   "source": [
    "### Step 1: Visit the Website\n",
    "\n",
    "1. Use automated browsing to visit the [Mars NASA news site](https://redplanetscience.com). Inspect the page to identify which elements to scrape.\n",
    "\n",
    "      > **Hint** To identify which elements to scrape, you might want to inspect the page by using Chrome DevTools."
   ]
  },
  {
   "cell_type": "code",
   "execution_count": 15,
   "metadata": {},
   "outputs": [],
   "source": [
    "# Visit the Mars NASA news site: https://redplanetscience.com\n",
    "url = 'https://redplanetscience.com'\n",
    "\n"
   ]
  },
  {
   "cell_type": "code",
   "execution_count": 19,
   "metadata": {},
   "outputs": [],
   "source": [
    "browser.visit(url)"
   ]
  },
  {
   "cell_type": "markdown",
   "metadata": {},
   "source": [
    "### Step 2: Scrape the Website\n",
    "\n",
    "Create a Beautiful Soup object and use it to extract text elements from the website."
   ]
  },
  {
   "cell_type": "code",
   "execution_count": 20,
   "metadata": {},
   "outputs": [],
   "source": [
    "# Create a Beautiful Soup object\n",
    "html = browser.html\n",
    "soup = soup(html, 'html.parser')"
   ]
  },
  {
   "cell_type": "code",
   "execution_count": 21,
   "metadata": {},
   "outputs": [],
   "source": [
    "# Extract all the text elements\n",
    "extract_text = soup.find_all('div', 'content_title')\n",
    "extract_preview = soup.find_all('div', 'article_teaser_body')"
   ]
  },
  {
   "cell_type": "markdown",
   "metadata": {},
   "source": [
    "### Step 3: Store the Results\n",
    "\n",
    "Extract the titles and preview text of the news articles that you scraped. Store the scraping results in Python data structures as follows:\n",
    "\n",
    "* Store each title-and-preview pair in a Python dictionary. And, give each dictionary two keys: `title` and `preview`. An example is the following:\n",
    "\n",
    "  ```python\n",
    "  {'title': \"Mars Rover Begins Mission!\", \n",
    "        'preview': \"NASA's Mars Rover begins a multiyear mission to collect data about the little-explored planet.\"}\n",
    "  ```\n",
    "\n",
    "* Store all the dictionaries in a Python list.\n",
    "\n",
    "* Print the list in your notebook."
   ]
  },
  {
   "cell_type": "code",
   "execution_count": 22,
   "metadata": {},
   "outputs": [],
   "source": [
    "# Create an empty list to store the dictionaries\n",
    "mars_dict = []"
   ]
  },
  {
   "cell_type": "code",
   "execution_count": 23,
   "metadata": {},
   "outputs": [],
   "source": [
    "# Loop through the text elements\n",
    "for extract_text, extract_preview in zip(extract_text, extract_preview):\n",
    "# Extract the title and preview text from the elements\n",
    "    title_text = extract_text.get_text()\n",
    "# Store each title and preview pair in a dictionary\n",
    "    preview_text = extract_preview.get_text()\n",
    "    data = {\n",
    "            'title':title_text,\n",
    "            'preview': preview_text\n",
    "    }\n",
    "# Add the dictionary to the list\n",
    "    mars_dict.append(data)"
   ]
  },
  {
   "cell_type": "code",
   "execution_count": 29,
   "metadata": {},
   "outputs": [],
   "source": [
    "pp = pprint.PrettyPrinter(indent=4)"
   ]
  },
  {
   "cell_type": "code",
   "execution_count": 30,
   "metadata": {},
   "outputs": [
    {
     "name": "stdout",
     "output_type": "stream",
     "text": [
      "[   {   'preview': \"Did you know NASA's next Mars rover has a nearly identical \"\n",
      "                   \"sibling on Earth for testing? Even better, it's about to \"\n",
      "                   'roll for the first time through a replica Martian '\n",
      "                   'landscape.',\n",
      "        'title': \"NASA Readies Perseverance Mars Rover's Earthly Twin \"},\n",
      "    {   'preview': 'The first helicopter attempting to fly on another planet '\n",
      "                   'is a marvel of engineering. Get up to speed with these key '\n",
      "                   'facts about its plans.',\n",
      "        'title': \"6 Things to Know About NASA's Ingenuity Mars Helicopter\"},\n",
      "    {   'preview': \"It's the first time machine learning has been used to find \"\n",
      "                   'previously unknown craters on the Red Planet.',\n",
      "        'title': 'AI Is Helping Scientists Discover Fresh Craters on Mars'},\n",
      "    {   'preview': '155 students from across the U.S. have been chosen as '\n",
      "                   \"semifinalists in NASA's essay contest to name the Mars \"\n",
      "                   '2020 rover, and see it launch from Cape Canaveral this '\n",
      "                   'July.',\n",
      "        'title': \"NASA's Mars 2020 Rover Closer to Getting Its Name\"},\n",
      "    {   'preview': \"The agency's newest rover will use the first \"\n",
      "                   'ground-penetrating radar instrument on the Martian surface '\n",
      "                   'to help search for signs of past microbial life. ',\n",
      "        'title': \"NASA's Perseverance Rover Will Peer Beneath Mars' Surface \"},\n",
      "    {   'preview': 'An instrument called SHERLOC will, with the help of its '\n",
      "                   'partner WATSON, hunt for signs of ancient life by '\n",
      "                   'detecting organic molecules and minerals.',\n",
      "        'title': \"The Detective Aboard NASA's Perseverance Rover\"},\n",
      "    {   'preview': 'A type of Martian aurora first identified by NASA’s MAVEN '\n",
      "                   'spacecraft in 2016 is actually the most common form of '\n",
      "                   'aurora occurring on the Red Planet, according to new '\n",
      "                   'results from the mission.',\n",
      "        'title': 'Newfound Martian Aurora Actually the Most Common; Sheds '\n",
      "                 \"Light on Mars' Changing Climate\"},\n",
      "    {   'preview': 'Five years after NASA’s MAVEN spacecraft entered into '\n",
      "                   'orbit around Mars, data from the mission has led to the '\n",
      "                   'creation of a map of electric current systems in the '\n",
      "                   'Martian atmosphere.',\n",
      "        'title': 'MAVEN Maps Electric Currents around Mars that are '\n",
      "                 'Fundamental to Atmospheric Loss'},\n",
      "    {   'preview': 'A letter from NASA was presented to the mayor of Jezero, '\n",
      "                   'Bosnia-Herzegovina, honoring the connection between the '\n",
      "                   'town and Jezero Crater, the Mars 2020 rover landing site.',\n",
      "        'title': 'NASA Mars Mission Connects With Bosnian and Herzegovinian '\n",
      "                 'Town'},\n",
      "    {   'preview': 'Efforts to save the heat probe continue.',\n",
      "        'title': \"InSight's 'Mole' Team Peers into the Pit\"},\n",
      "    {   'preview': 'Apollo 12 and the upcoming Mars 2020 mission may be '\n",
      "                   'separated by half a century, but they share several goals '\n",
      "                   'unique in the annals of space exploration.',\n",
      "        'title': 'Two of a Space Kind: Apollo 12 and Mars 2020'},\n",
      "    {   'preview': 'Now that the heat probe is just below the Martian surface, '\n",
      "                   \"InSight's arm will scoop some additional soil on top to \"\n",
      "                   \"help it keep digging so it can take Mars' temperature.\",\n",
      "        'title': \"NASA InSight's 'Mole' Is Out of Sight\"},\n",
      "    {   'preview': \"Marvels of engineering, the rover's sample tubes must be \"\n",
      "                   'tough enough to safely bring Red Planet samples on the '\n",
      "                   'long journey back to Earth in immaculate condition. ',\n",
      "        'title': \"A Martian Roundtrip: NASA's Perseverance Rover Sample Tubes\"},\n",
      "    {   'preview': 'The symbols, mottos, and small objects added to the '\n",
      "                   \"agency's newest Mars rover serve a variety of purposes, \"\n",
      "                   'from functional to decorative.',\n",
      "        'title': \"5 Hidden Gems Are Riding Aboard NASA's Perseverance Rover\"},\n",
      "    {   'preview': 'Using an online tool to label Martian terrain types, you '\n",
      "                   'can train an artificial intelligence algorithm that could '\n",
      "                   'improve the way engineers guide the Curiosity rover.',\n",
      "        'title': \"NASA's Mars Rover Drivers Need Your Help\"}]\n"
     ]
    }
   ],
   "source": [
    "# Print the list to confirm success\n",
    "pp.pprint(mars_dict)"
   ]
  },
  {
   "cell_type": "code",
   "execution_count": 9,
   "metadata": {},
   "outputs": [],
   "source": [
    "browser.quit()"
   ]
  },
  {
   "cell_type": "markdown",
   "metadata": {},
   "source": [
    "### (Optional) Step 4: Export the Data\n",
    "\n",
    "Optionally, store the scraped data in a file or database (to ease sharing the data with others). To do so, export the scraped data to either a JSON file or a MongoDB database."
   ]
  },
  {
   "cell_type": "code",
   "execution_count": 33,
   "metadata": {},
   "outputs": [],
   "source": [
    "# Export data to JSON\n"
   ]
  },
  {
   "cell_type": "code",
   "execution_count": null,
   "metadata": {},
   "outputs": [],
   "source": [
    "# Export data to MongoDB\n"
   ]
  }
 ],
 "metadata": {
  "kernelspec": {
   "display_name": "base",
   "language": "python",
   "name": "python3"
  },
  "language_info": {
   "codemirror_mode": {
    "name": "ipython",
    "version": 3
   },
   "file_extension": ".py",
   "mimetype": "text/x-python",
   "name": "python",
   "nbconvert_exporter": "python",
   "pygments_lexer": "ipython3",
   "version": "3.9.13"
  },
  "vscode": {
   "interpreter": {
    "hash": "ad05324d981865b2a7ca361ae01e1843dd2045052ef96dbf583072314ce41d24"
   }
  }
 },
 "nbformat": 4,
 "nbformat_minor": 4
}
